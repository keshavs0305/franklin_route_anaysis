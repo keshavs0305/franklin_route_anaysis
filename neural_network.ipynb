{
 "cells": [
  {
   "cell_type": "raw",
   "id": "8a54684f",
   "metadata": {},
   "source": [
    "The goal of this project is to understand the variance structure of the trading cost values and to map this variance to the feature fields.\n",
    "More specifically, we want to understand which of these features if any contributes to negative transaction costs.\n",
    "Are there any patterns and relationships in the data that can help us further understand which of these features is associated with the sign and magnitude of trading costs?\n",
    "And finally, if we were to attempt to minimize these trading costs, what features would be the most important to minimize/maximize in order to do so?"
   ]
  },
  {
   "cell_type": "code",
   "execution_count": 1,
   "id": "31845db2",
   "metadata": {},
   "outputs": [],
   "source": [
    "import warnings\n",
    "warnings.filterwarnings(\"ignore\")\n",
    "import pandas as pd\n",
    "import numpy as np\n",
    "from sklearn.preprocessing import OneHotEncoder\n",
    "import pickle\n",
    "from sklearn.preprocessing import StandardScaler\n",
    "import matplotlib.pyplot as plt\n",
    "%matplotlib inline\n",
    "from sklearn.model_selection import train_test_split\n",
    "from sklearn.metrics import r2_score\n",
    "import tensorflow as tf\n",
    "from tensorflow import keras\n",
    "from keras.models import Sequential\n",
    "from keras.layers import Dense\n",
    "from sklearn.inspection import permutation_importance"
   ]
  },
  {
   "cell_type": "code",
   "execution_count": 2,
   "id": "65309a46",
   "metadata": {},
   "outputs": [],
   "source": [
    "data = pd.read_csv(\"ExecutionAlgoData.csv\")"
   ]
  },
  {
   "cell_type": "code",
   "execution_count": 3,
   "id": "7da8b34e",
   "metadata": {},
   "outputs": [
    {
     "data": {
      "text/plain": [
       "(69212, 29)"
      ]
     },
     "execution_count": 3,
     "metadata": {},
     "output_type": "execute_result"
    }
   ],
   "source": [
    "data.shape"
   ]
  },
  {
   "cell_type": "code",
   "execution_count": 4,
   "id": "3a939ae3",
   "metadata": {},
   "outputs": [],
   "source": [
    "data.dropna(inplace=True)\n",
    "data.drop(['BTP_PlacementID'],axis=1,inplace=True)"
   ]
  },
  {
   "cell_type": "code",
   "execution_count": null,
   "id": "2414a67d",
   "metadata": {},
   "outputs": [],
   "source": []
  },
  {
   "cell_type": "code",
   "execution_count": null,
   "id": "48515214",
   "metadata": {},
   "outputs": [],
   "source": []
  },
  {
   "cell_type": "code",
   "execution_count": 5,
   "id": "dfa659ff",
   "metadata": {},
   "outputs": [],
   "source": [
    "i=0\n",
    "while i < 3:\n",
    "    if i == 0:\n",
    "        data['BTP_TradeDateEST_day'] = pd.to_datetime(data['BTP_TradeDateEST']).dt.day\n",
    "    elif i == 1:\n",
    "        data['BTP_TradeDateEST_month'] = pd.to_datetime(data['BTP_TradeDateEST']).dt.month\n",
    "    else:\n",
    "        data['BTP_TradeDateEST_year'] = pd.to_datetime(data['BTP_TradeDateEST']).dt.year\n",
    "    i += 1"
   ]
  },
  {
   "cell_type": "code",
   "execution_count": 6,
   "id": "e882fdeb",
   "metadata": {},
   "outputs": [],
   "source": [
    "data.drop(['BTP_TradeDateEST'],axis=1,inplace=True)"
   ]
  },
  {
   "cell_type": "code",
   "execution_count": null,
   "id": "90d4ea78",
   "metadata": {},
   "outputs": [],
   "source": []
  },
  {
   "cell_type": "code",
   "execution_count": null,
   "id": "6ff5e592",
   "metadata": {},
   "outputs": [],
   "source": []
  },
  {
   "cell_type": "code",
   "execution_count": 7,
   "id": "804c8b10",
   "metadata": {},
   "outputs": [],
   "source": [
    "for col in ['BTP_Broker','BTP_Strategy','BTP_Desk','BTP_Trader','BTP_OrderType']:\n",
    "    ohe = OneHotEncoder(sparse=False)\n",
    "    x = pd.DataFrame(ohe.fit_transform(data[col].to_numpy().reshape(-1,1)))\n",
    "    for cols in x.columns:\n",
    "        data[col+'_ohe_'+str(cols)] = x[cols]\n",
    "    #with open('models/one_hot_encoding_'+col+\".bin\",\"wb\") as f:\n",
    "        #pickle.dump(ohe, f)\n",
    "    data.drop([col],axis=1,inplace=True)"
   ]
  },
  {
   "cell_type": "code",
   "execution_count": 8,
   "id": "88f829f8",
   "metadata": {},
   "outputs": [],
   "source": [
    "data.dropna(inplace=True)"
   ]
  },
  {
   "cell_type": "code",
   "execution_count": 9,
   "id": "b523499b",
   "metadata": {},
   "outputs": [],
   "source": [
    "data['BTP_Side'] = data['BTP_Side'].apply(lambda a:int(a == 'S'))"
   ]
  },
  {
   "cell_type": "code",
   "execution_count": 10,
   "id": "fc7e1e08",
   "metadata": {},
   "outputs": [],
   "source": [
    "i=0\n",
    "t1 = pd.to_datetime(data['BTP_StartTime'])\n",
    "while i < 6:\n",
    "    if i == 0:\n",
    "        data['BTP_StartTime_day'] = t1.dt.day\n",
    "    elif i == 1:\n",
    "        data['BTP_StartTime_month'] = t1.dt.month\n",
    "    elif i == 2:\n",
    "        data['BTP_StartTime_year'] = t1.dt.year\n",
    "    elif i == 3:\n",
    "        data['BTP_StartTime_hour'] = t1.dt.hour\n",
    "    elif i == 4:\n",
    "        data['BTP_StartTime_minute'] = t1.dt.minute\n",
    "    else:\n",
    "        data['BTP_StartTime_second'] = t1.dt.second\n",
    "    i += 1\n",
    "data.drop(['BTP_StartTime'],axis=1,inplace=True)"
   ]
  },
  {
   "cell_type": "code",
   "execution_count": 11,
   "id": "afd8864b",
   "metadata": {},
   "outputs": [
    {
     "data": {
      "text/plain": [
       "(33485, 131)"
      ]
     },
     "execution_count": 11,
     "metadata": {},
     "output_type": "execute_result"
    }
   ],
   "source": [
    "data.shape"
   ]
  },
  {
   "cell_type": "code",
   "execution_count": 12,
   "id": "8b7ea5e5",
   "metadata": {},
   "outputs": [
    {
     "data": {
      "text/plain": [
       "(121, 10, 0)"
      ]
     },
     "execution_count": 12,
     "metadata": {},
     "output_type": "execute_result"
    }
   ],
   "source": [
    "(data.dtypes == 'float64').sum(), (data.dtypes == 'int64').sum(), (data.dtypes == 'object').sum()"
   ]
  },
  {
   "cell_type": "code",
   "execution_count": null,
   "id": "3416c778",
   "metadata": {},
   "outputs": [],
   "source": []
  },
  {
   "cell_type": "code",
   "execution_count": null,
   "id": "7d4fce4d",
   "metadata": {},
   "outputs": [],
   "source": []
  },
  {
   "cell_type": "code",
   "execution_count": null,
   "id": "bfd944f2",
   "metadata": {},
   "outputs": [],
   "source": []
  },
  {
   "cell_type": "code",
   "execution_count": 13,
   "id": "9fc950b4",
   "metadata": {},
   "outputs": [],
   "source": [
    "x = data.drop(['BTP_LmtAdjArrivalPrice_bps','BTP_LmtAdjPWP20Pct_bps'],axis=1)"
   ]
  },
  {
   "cell_type": "code",
   "execution_count": 14,
   "id": "055fd929",
   "metadata": {},
   "outputs": [],
   "source": [
    "x_train, x_test, y_train, y_test = train_test_split(x,data.BTP_LmtAdjPWP20Pct_bps,test_size=0.2)"
   ]
  },
  {
   "cell_type": "code",
   "execution_count": 97,
   "id": "6a4539d4",
   "metadata": {},
   "outputs": [],
   "source": [
    "x_scaler = StandardScaler()\n",
    "x_train_std = x_scaler.fit_transform(x_train)\n",
    "x_test_std = x_scaler.transform(x_test)\n",
    "\n",
    "y_scaler = StandardScaler()\n",
    "y_train_std = y_scaler.fit_transform(y_train.to_numpy().reshape(-1, 1))\n",
    "y_test_std = y_scaler.transform(y_test.to_numpy().reshape(-1, 1))"
   ]
  },
  {
   "cell_type": "code",
   "execution_count": null,
   "id": "5a6a4645",
   "metadata": {},
   "outputs": [],
   "source": []
  },
  {
   "cell_type": "code",
   "execution_count": 20,
   "id": "d437d437",
   "metadata": {},
   "outputs": [],
   "source": []
  },
  {
   "cell_type": "code",
   "execution_count": 108,
   "id": "285d9797",
   "metadata": {},
   "outputs": [],
   "source": [
    "model = Sequential()\n",
    "model.add(Dense(25, input_dim=x_train.shape[1], activation='tanh', kernel_initializer='he_normal'))\n",
    "model.add(Dense(5, activation='tanh', kernel_initializer='he_normal'))\n",
    "model.add(Dense(1, activation='linear'))"
   ]
  },
  {
   "cell_type": "code",
   "execution_count": 109,
   "id": "987565b6",
   "metadata": {},
   "outputs": [
    {
     "name": "stdout",
     "output_type": "stream",
     "text": [
      "Epoch 1/10\n",
      "5693/5693 [==============================] - 12s 2ms/step - loss: 0.9101 - val_loss: 0.6393\n",
      "Epoch 2/10\n",
      "5693/5693 [==============================] - 11s 2ms/step - loss: 0.8248 - val_loss: 0.5949\n",
      "Epoch 3/10\n",
      "5693/5693 [==============================] - 13s 2ms/step - loss: 0.7642 - val_loss: 0.5586\n",
      "Epoch 4/10\n",
      "5693/5693 [==============================] - 11s 2ms/step - loss: 0.7151 - val_loss: 0.5443\n",
      "Epoch 5/10\n",
      "5693/5693 [==============================] - 11s 2ms/step - loss: 0.6814 - val_loss: 0.5308\n",
      "Epoch 6/10\n",
      "5693/5693 [==============================] - 10s 2ms/step - loss: 0.6487 - val_loss: 0.5202\n",
      "Epoch 7/10\n",
      "5693/5693 [==============================] - 10s 2ms/step - loss: 0.6250 - val_loss: 0.5128\n",
      "Epoch 8/10\n",
      "5693/5693 [==============================] - 10s 2ms/step - loss: 0.6013 - val_loss: 0.5115\n",
      "Epoch 9/10\n",
      "5693/5693 [==============================] - 10s 2ms/step - loss: 0.5845 - val_loss: 0.5068\n",
      "Epoch 10/10\n",
      "5693/5693 [==============================] - 10s 2ms/step - loss: 0.5679 - val_loss: 0.4978\n"
     ]
    },
    {
     "data": {
      "text/plain": [
       "<keras.callbacks.History at 0x1b3332d1220>"
      ]
     },
     "execution_count": 109,
     "metadata": {},
     "output_type": "execute_result"
    }
   ],
   "source": [
    "model.compile(loss='mse', optimizer=keras.optimizers.Adam(learning_rate=0.001))\n",
    "model.fit(x_train_std,y_train_std,epochs=10,verbose=1,batch_size=4,validation_split=0.2)"
   ]
  },
  {
   "cell_type": "raw",
   "id": "04c445e6",
   "metadata": {},
   "source": [
    "model.summary()"
   ]
  },
  {
   "cell_type": "raw",
   "id": "e66fa57f",
   "metadata": {},
   "source": [
    "model.weights"
   ]
  },
  {
   "cell_type": "code",
   "execution_count": 113,
   "id": "9736aad0",
   "metadata": {},
   "outputs": [],
   "source": [
    "#dir(model)"
   ]
  },
  {
   "cell_type": "code",
   "execution_count": 36,
   "id": "b52a1c2c",
   "metadata": {},
   "outputs": [],
   "source": []
  },
  {
   "cell_type": "code",
   "execution_count": 84,
   "id": "566df564",
   "metadata": {},
   "outputs": [],
   "source": []
  },
  {
   "cell_type": "code",
   "execution_count": 114,
   "id": "e24b6a9f",
   "metadata": {},
   "outputs": [
    {
     "data": {
      "text/plain": [
       "0.4761402634040952"
      ]
     },
     "execution_count": 114,
     "metadata": {},
     "output_type": "execute_result"
    }
   ],
   "source": [
    "r2_score(y_train_std,model.predict(x_train_std))"
   ]
  },
  {
   "cell_type": "code",
   "execution_count": 115,
   "id": "9b4d81b7",
   "metadata": {},
   "outputs": [
    {
     "data": {
      "text/plain": [
       "0.34314929693735174"
      ]
     },
     "execution_count": 115,
     "metadata": {},
     "output_type": "execute_result"
    }
   ],
   "source": [
    "r2_score(y_test_std,model.predict(x_test_std))"
   ]
  },
  {
   "cell_type": "code",
   "execution_count": 116,
   "id": "dbbea60a",
   "metadata": {},
   "outputs": [
    {
     "data": {
      "image/png": "[encoded data removed]",
      "text/plain": [
       "<Figure size 432x288 with 1 Axes>"
      ]
     },
     "metadata": {
      "needs_background": "light"
     },
     "output_type": "display_data"
    }
   ],
   "source": [
    "plt.scatter(y_test_std,model.predict(x_test_std).reshape(1,-1)[0])\n",
    "plt.xlabel('True')\n",
    "plt.ylabel('Predicted')\n",
    "plt.show()"
   ]
  },
  {
   "cell_type": "code",
   "execution_count": 117,
   "id": "d970ae96",
   "metadata": {},
   "outputs": [],
   "source": []
  },
  {
   "cell_type": "code",
   "execution_count": null,
   "id": "5db1f59e",
   "metadata": {},
   "outputs": [],
   "source": []
  },
  {
   "cell_type": "code",
   "execution_count": null,
   "id": "47b9a4e3",
   "metadata": {},
   "outputs": [],
   "source": []
  },
  {
   "cell_type": "code",
   "execution_count": 119,
   "id": "afdd1931",
   "metadata": {},
   "outputs": [],
   "source": [
    "results = permutation_importance(model, x_test_std, y_test_std, scoring='neg_mean_squared_error')\n",
    "importance = results.importances_mean"
   ]
  },
  {
   "cell_type": "code",
   "execution_count": 133,
   "id": "4f94d064",
   "metadata": {},
   "outputs": [
    {
     "data": {
      "text/plain": [
       "<AxesSubplot:xlabel='features'>"
      ]
     },
     "execution_count": 133,
     "metadata": {},
     "output_type": "execute_result"
    },
    {
     "data": {
      "image/png": "[encoded data removed]",
      "text/plain": [
       "<Figure size 432x288 with 1 Axes>"
      ]
     },
     "metadata": {
      "needs_background": "light"
     },
     "output_type": "display_data"
    }
   ],
   "source": [
    "t1 = pd.DataFrame(importance,columns=['importance'])\n",
    "t1['features'] = x_train.columns\n",
    "\n",
    "t1.sort_values(['importance'],ascending=False).reset_index().iloc[:10].plot(x='features',y='importance',kind='bar')"
   ]
  },
  {
   "cell_type": "code",
   "execution_count": null,
   "id": "01da4bbd",
   "metadata": {},
   "outputs": [],
   "source": []
  },
  {
   "cell_type": "code",
   "execution_count": null,
   "id": "24c213fd",
   "metadata": {},
   "outputs": [],
   "source": []
  },
  {
   "cell_type": "code",
   "execution_count": null,
   "id": "d506ddbc",
   "metadata": {},
   "outputs": [],
   "source": []
  },
  {
   "cell_type": "code",
   "execution_count": null,
   "id": "6579c800",
   "metadata": {},
   "outputs": [],
   "source": []
  },
  {
   "cell_type": "code",
   "execution_count": null,
   "id": "ed70f265",
   "metadata": {},
   "outputs": [],
   "source": []
  },
  {
   "cell_type": "code",
   "execution_count": null,
   "id": "1b6899c1",
   "metadata": {},
   "outputs": [],
   "source": []
  },
  {
   "cell_type": "code",
   "execution_count": null,
   "id": "aea8f281",
   "metadata": {},
   "outputs": [],
   "source": []
  },
  {
   "cell_type": "code",
   "execution_count": null,
   "id": "a8a1012c",
   "metadata": {},
   "outputs": [],
   "source": []
  },
  {
   "cell_type": "code",
   "execution_count": null,
   "id": "1889f740",
   "metadata": {},
   "outputs": [],
   "source": []
  },
  {
   "cell_type": "code",
   "execution_count": null,
   "id": "1bce810c",
   "metadata": {},
   "outputs": [],
   "source": []
  },
  {
   "cell_type": "code",
   "execution_count": null,
   "id": "a1302ba8",
   "metadata": {},
   "outputs": [],
   "source": []
  },
  {
   "cell_type": "code",
   "execution_count": null,
   "id": "52c223dd",
   "metadata": {},
   "outputs": [],
   "source": []
  },
  {
   "cell_type": "code",
   "execution_count": null,
   "id": "bb01d6bd",
   "metadata": {},
   "outputs": [],
   "source": []
  },
  {
   "cell_type": "code",
   "execution_count": null,
   "id": "8723acc7",
   "metadata": {},
   "outputs": [],
   "source": []
  },
  {
   "cell_type": "code",
   "execution_count": null,
   "id": "36e375f3",
   "metadata": {},
   "outputs": [],
   "source": []
  },
  {
   "cell_type": "code",
   "execution_count": null,
   "id": "b4b7f4ea",
   "metadata": {},
   "outputs": [],
   "source": []
  },
  {
   "cell_type": "code",
   "execution_count": null,
   "id": "2ce8140e",
   "metadata": {},
   "outputs": [],
   "source": []
  },
  {
   "cell_type": "code",
   "execution_count": null,
   "id": "60437f53",
   "metadata": {},
   "outputs": [],
   "source": []
  },
  {
   "cell_type": "code",
   "execution_count": null,
   "id": "d4383f8b",
   "metadata": {},
   "outputs": [],
   "source": []
  },
  {
   "cell_type": "code",
   "execution_count": null,
   "id": "4040b3d2",
   "metadata": {},
   "outputs": [],
   "source": []
  },
  {
   "cell_type": "code",
   "execution_count": null,
   "id": "efd8d019",
   "metadata": {},
   "outputs": [],
   "source": []
  },
  {
   "cell_type": "code",
   "execution_count": null,
   "id": "f4b04ad2",
   "metadata": {},
   "outputs": [],
   "source": []
  }
 ],
 "metadata": {
  "kernelspec": {
   "display_name": "Python 3",
   "language": "python",
   "name": "python3"
  },
  "language_info": {
   "codemirror_mode": {
    "name": "ipython",
    "version": 3
   },
   "file_extension": ".py",
   "mimetype": "text/x-python",
   "name": "python",
   "nbconvert_exporter": "python",
   "pygments_lexer": "ipython3",
   "version": "3.8.8"
  }
 },
 "nbformat": 4,
 "nbformat_minor": 5
}
