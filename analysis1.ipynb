{
 "cells": [
  {
   "cell_type": "code",
   "execution_count": 82,
   "id": "647fd5bd",
   "metadata": {},
   "outputs": [],
   "source": [
    "import warnings\n",
    "warnings.filterwarnings(\"ignore\")\n",
    "import pandas as pd\n",
    "import numpy as np\n",
    "from sklearn.preprocessing import OneHotEncoder\n",
    "import pickle\n",
    "from sklearn.preprocessing import StandardScaler\n",
    "import matplotlib.pyplot as plt\n",
    "%matplotlib inline\n",
    "from sklearn.model_selection import train_test_split\n",
    "from sklearn.linear_model import ElasticNet\n",
    "from sklearn.model_selection import GridSearchCV\n",
    "from sklearn.model_selection import RandomizedSearchCV\n",
    "from sklearn.svm import LinearSVR\n",
    "import xgboost as xgb"
   ]
  },
  {
   "cell_type": "code",
   "execution_count": 2,
   "id": "65309a46",
   "metadata": {},
   "outputs": [
    {
     "name": "stderr",
     "output_type": "stream",
     "text": [
      "C:\\ProgramData\\Anaconda3\\lib\\site-packages\\IPython\\core\\interactiveshell.py:3165: DtypeWarning: Columns (0,1,11,14,15,16,19,20,21) have mixed types.Specify dtype option on import or set low_memory=False.\n",
      "  has_raised = await self.run_ast_nodes(code_ast.body, cell_name,\n"
     ]
    }
   ],
   "source": [
    "data = pd.read_csv(\"ExecutionAlgoData.csv\")"
   ]
  },
  {
   "cell_type": "code",
   "execution_count": 3,
   "id": "902f4d6e",
   "metadata": {},
   "outputs": [
    {
     "data": {
      "text/plain": [
       "(69212, 29)"
      ]
     },
     "execution_count": 3,
     "metadata": {},
     "output_type": "execute_result"
    }
   ],
   "source": [
    "data.shape"
   ]
  },
  {
   "cell_type": "code",
   "execution_count": 4,
   "id": "64f056eb",
   "metadata": {},
   "outputs": [],
   "source": [
    "data.dropna(inplace=True)\n",
    "data.drop(['BTP_PlacementID'],axis=1,inplace=True)"
   ]
  },
  {
   "cell_type": "code",
   "execution_count": null,
   "id": "b59bab33",
   "metadata": {},
   "outputs": [],
   "source": []
  },
  {
   "cell_type": "code",
   "execution_count": null,
   "id": "b98686db",
   "metadata": {},
   "outputs": [],
   "source": []
  },
  {
   "cell_type": "code",
   "execution_count": 5,
   "id": "390516bb",
   "metadata": {},
   "outputs": [],
   "source": [
    "i=0\n",
    "while i < 3:\n",
    "    if i == 0:\n",
    "        data['BTP_TradeDateEST_day'] = pd.to_datetime(data['BTP_TradeDateEST']).dt.day\n",
    "    elif i == 1:\n",
    "        data['BTP_TradeDateEST_month'] = pd.to_datetime(data['BTP_TradeDateEST']).dt.month\n",
    "    else:\n",
    "        data['BTP_TradeDateEST_year'] = pd.to_datetime(data['BTP_TradeDateEST']).dt.year\n",
    "    i += 1"
   ]
  },
  {
   "cell_type": "code",
   "execution_count": 6,
   "id": "5deb9885",
   "metadata": {},
   "outputs": [],
   "source": [
    "data.drop(['BTP_TradeDateEST'],axis=1,inplace=True)"
   ]
  },
  {
   "cell_type": "code",
   "execution_count": null,
   "id": "22d557ed",
   "metadata": {},
   "outputs": [],
   "source": []
  },
  {
   "cell_type": "code",
   "execution_count": null,
   "id": "f1063b6a",
   "metadata": {},
   "outputs": [],
   "source": []
  },
  {
   "cell_type": "code",
   "execution_count": 7,
   "id": "5f810765",
   "metadata": {},
   "outputs": [],
   "source": [
    "for col in ['BTP_Broker','BTP_Strategy','BTP_Desk','BTP_Trader','BTP_OrderType']:\n",
    "    ohe = OneHotEncoder(sparse=False)\n",
    "    x = pd.DataFrame(ohe.fit_transform(data[col].to_numpy().reshape(-1,1)))\n",
    "    for cols in x.columns:\n",
    "        data[col+'_ohe_'+str(cols)] = x[cols]\n",
    "    #with open('models/one_hot_encoding_'+col+\".bin\",\"wb\") as f:\n",
    "        #pickle.dump(ohe, f)\n",
    "    data.drop([col],axis=1,inplace=True)"
   ]
  },
  {
   "cell_type": "code",
   "execution_count": 8,
   "id": "aaef26d5",
   "metadata": {},
   "outputs": [],
   "source": [
    "data.dropna(inplace=True)"
   ]
  },
  {
   "cell_type": "code",
   "execution_count": 9,
   "id": "8959bc25",
   "metadata": {},
   "outputs": [],
   "source": [
    "data['BTP_Side'] = data['BTP_Side'].apply(lambda a:int(a == 'S'))"
   ]
  },
  {
   "cell_type": "code",
   "execution_count": 10,
   "id": "fa700564",
   "metadata": {},
   "outputs": [],
   "source": [
    "i=0\n",
    "t1 = pd.to_datetime(data['BTP_StartTime'])\n",
    "while i < 6:\n",
    "    if i == 0:\n",
    "        data['BTP_StartTime_day'] = t1.dt.day\n",
    "    elif i == 1:\n",
    "        data['BTP_StartTime_month'] = t1.dt.month\n",
    "    elif i == 2:\n",
    "        data['BTP_StartTime_year'] = t1.dt.year\n",
    "    elif i == 3:\n",
    "        data['BTP_StartTime_hour'] = t1.dt.hour\n",
    "    elif i == 4:\n",
    "        data['BTP_StartTime_minute'] = t1.dt.minute\n",
    "    else:\n",
    "        data['BTP_StartTime_second'] = t1.dt.second\n",
    "    i += 1\n",
    "data.drop(['BTP_StartTime'],axis=1,inplace=True)"
   ]
  },
  {
   "cell_type": "code",
   "execution_count": 11,
   "id": "37ab2f97",
   "metadata": {},
   "outputs": [
    {
     "data": {
      "text/plain": [
       "(33485, 131)"
      ]
     },
     "execution_count": 11,
     "metadata": {},
     "output_type": "execute_result"
    }
   ],
   "source": [
    "data.shape"
   ]
  },
  {
   "cell_type": "code",
   "execution_count": 12,
   "id": "24577d8c",
   "metadata": {},
   "outputs": [
    {
     "data": {
      "text/plain": [
       "(121, 10, 0)"
      ]
     },
     "execution_count": 12,
     "metadata": {},
     "output_type": "execute_result"
    }
   ],
   "source": [
    "(data.dtypes == 'float64').sum(), (data.dtypes == 'int64').sum(), (data.dtypes == 'object').sum()"
   ]
  },
  {
   "cell_type": "code",
   "execution_count": null,
   "id": "c86857f1",
   "metadata": {},
   "outputs": [],
   "source": []
  },
  {
   "cell_type": "code",
   "execution_count": null,
   "id": "037710c2",
   "metadata": {},
   "outputs": [],
   "source": []
  },
  {
   "cell_type": "code",
   "execution_count": null,
   "id": "9d12e604",
   "metadata": {},
   "outputs": [],
   "source": []
  },
  {
   "cell_type": "code",
   "execution_count": 13,
   "id": "b422b7f7",
   "metadata": {},
   "outputs": [],
   "source": [
    "x = data.drop(['BTP_LmtAdjArrivalPrice_bps','BTP_LmtAdjPWP20Pct_bps'],axis=1)"
   ]
  },
  {
   "cell_type": "code",
   "execution_count": 14,
   "id": "2dbc3ff3",
   "metadata": {},
   "outputs": [],
   "source": [
    "x_train, x_test, y_train, y_test = train_test_split(x,data.BTP_LmtAdjPWP20Pct_bps,test_size=0.15)"
   ]
  },
  {
   "cell_type": "code",
   "execution_count": 15,
   "id": "5b686a1e",
   "metadata": {},
   "outputs": [],
   "source": [
    "scaler = StandardScaler()\n",
    "x_train_std = scaler.fit_transform(x_train)\n",
    "x_test_std = scaler.transform(x_test)\n",
    "#pickle.dump(scaler_x)"
   ]
  },
  {
   "cell_type": "code",
   "execution_count": null,
   "id": "41daa125",
   "metadata": {},
   "outputs": [],
   "source": []
  },
  {
   "cell_type": "code",
   "execution_count": null,
   "id": "5915c995",
   "metadata": {},
   "outputs": [],
   "source": []
  },
  {
   "cell_type": "code",
   "execution_count": null,
   "id": "b65a862c",
   "metadata": {},
   "outputs": [],
   "source": []
  },
  {
   "cell_type": "code",
   "execution_count": 16,
   "id": "ea5cf9db",
   "metadata": {},
   "outputs": [
    {
     "name": "stdout",
     "output_type": "stream",
     "text": [
      "Fitting 4 folds for each of 8 candidates, totalling 32 fits\n"
     ]
    },
    {
     "data": {
      "text/plain": [
       "GridSearchCV(cv=4, estimator=ElasticNet(),\n",
       "             param_grid={'alpha': [0.1, 0.25], 'l1_ratio': [0.6, 0.8],\n",
       "                         'tol': [0.0001, 1e-05]},\n",
       "             verbose=1)"
      ]
     },
     "execution_count": 16,
     "metadata": {},
     "output_type": "execute_result"
    }
   ],
   "source": [
    "parameters = {\n",
    "    'alpha' : [0.1, 0.25],\n",
    "    'l1_ratio' : [0.6,0.8],\n",
    "    'tol' : [0.0001, 0.00001],\n",
    "}\n",
    "models = GridSearchCV(ElasticNet(normalize=False),cv=4,verbose=1,param_grid=parameters)\n",
    "models.fit(x_train_std,y_train)"
   ]
  },
  {
   "cell_type": "code",
   "execution_count": 17,
   "id": "4671480a",
   "metadata": {},
   "outputs": [
    {
     "data": {
      "text/plain": [
       "(0.25697014635831994, 0.25482843363925156)"
      ]
     },
     "execution_count": 17,
     "metadata": {},
     "output_type": "execute_result"
    }
   ],
   "source": [
    "models.best_estimator_.score(x_train_std,y_train), models.best_estimator_.score(x_test_std,y_test)"
   ]
  },
  {
   "cell_type": "code",
   "execution_count": 18,
   "id": "233fa412",
   "metadata": {},
   "outputs": [
    {
     "data": {
      "text/plain": [
       "<AxesSubplot:xlabel='features'>"
      ]
     },
     "execution_count": 18,
     "metadata": {},
     "output_type": "execute_result"
    },
    {
     "data": {
      "image/png": "[encoded data removed]",
      "text/plain": [
       "<Figure size 1440x720 with 1 Axes>"
      ]
     },
     "metadata": {
      "needs_background": "light"
     },
     "output_type": "display_data"
    }
   ],
   "source": [
    "t1 = pd.DataFrame(models.best_estimator_.coef_,columns = ['coef'])\n",
    "t1['features'] = x_train.columns\n",
    "\n",
    "t1 = t1.loc[abs(t1.coef)>1]\n",
    "t1.sort_values(['coef'],ascending=False).plot('features','coef',kind='bar',figsize=(20, 10),fontsize=25)"
   ]
  },
  {
   "cell_type": "code",
   "execution_count": 19,
   "id": "58f32201",
   "metadata": {},
   "outputs": [],
   "source": [
    "#models.best_estimator_.get_params()"
   ]
  },
  {
   "cell_type": "code",
   "execution_count": null,
   "id": "ca17e63c",
   "metadata": {},
   "outputs": [],
   "source": []
  },
  {
   "cell_type": "code",
   "execution_count": null,
   "id": "cdfe9b80",
   "metadata": {},
   "outputs": [],
   "source": []
  },
  {
   "cell_type": "code",
   "execution_count": null,
   "id": "8f7aa071",
   "metadata": {},
   "outputs": [],
   "source": []
  },
  {
   "cell_type": "code",
   "execution_count": 42,
   "id": "dc1b1278",
   "metadata": {},
   "outputs": [
    {
     "name": "stdout",
     "output_type": "stream",
     "text": [
      "Fitting 3 folds for each of 4 candidates, totalling 12 fits\n"
     ]
    },
    {
     "name": "stderr",
     "output_type": "stream",
     "text": [
      "C:\\ProgramData\\Anaconda3\\lib\\site-packages\\sklearn\\svm\\_base.py:985: ConvergenceWarning: Liblinear failed to converge, increase the number of iterations.\n",
      "  warnings.warn(\"Liblinear failed to converge, increase \"\n"
     ]
    },
    {
     "name": "stdout",
     "output_type": "stream",
     "text": [
      "[CV 1/3] END .................................C=1, epsilon=1; total time=   6.7s\n"
     ]
    },
    {
     "name": "stderr",
     "output_type": "stream",
     "text": [
      "C:\\ProgramData\\Anaconda3\\lib\\site-packages\\sklearn\\svm\\_base.py:985: ConvergenceWarning: Liblinear failed to converge, increase the number of iterations.\n",
      "  warnings.warn(\"Liblinear failed to converge, increase \"\n"
     ]
    },
    {
     "name": "stdout",
     "output_type": "stream",
     "text": [
      "[CV 2/3] END .................................C=1, epsilon=1; total time=   6.4s\n"
     ]
    },
    {
     "name": "stderr",
     "output_type": "stream",
     "text": [
      "C:\\ProgramData\\Anaconda3\\lib\\site-packages\\sklearn\\svm\\_base.py:985: ConvergenceWarning: Liblinear failed to converge, increase the number of iterations.\n",
      "  warnings.warn(\"Liblinear failed to converge, increase \"\n"
     ]
    },
    {
     "name": "stdout",
     "output_type": "stream",
     "text": [
      "[CV 3/3] END .................................C=1, epsilon=1; total time=   6.8s\n"
     ]
    },
    {
     "name": "stderr",
     "output_type": "stream",
     "text": [
      "C:\\ProgramData\\Anaconda3\\lib\\site-packages\\sklearn\\svm\\_base.py:985: ConvergenceWarning: Liblinear failed to converge, increase the number of iterations.\n",
      "  warnings.warn(\"Liblinear failed to converge, increase \"\n"
     ]
    },
    {
     "name": "stdout",
     "output_type": "stream",
     "text": [
      "[CV 1/3] END .................................C=1, epsilon=2; total time=   6.0s\n"
     ]
    },
    {
     "name": "stderr",
     "output_type": "stream",
     "text": [
      "C:\\ProgramData\\Anaconda3\\lib\\site-packages\\sklearn\\svm\\_base.py:985: ConvergenceWarning: Liblinear failed to converge, increase the number of iterations.\n",
      "  warnings.warn(\"Liblinear failed to converge, increase \"\n"
     ]
    },
    {
     "name": "stdout",
     "output_type": "stream",
     "text": [
      "[CV 2/3] END .................................C=1, epsilon=2; total time=   6.3s\n"
     ]
    },
    {
     "name": "stderr",
     "output_type": "stream",
     "text": [
      "C:\\ProgramData\\Anaconda3\\lib\\site-packages\\sklearn\\svm\\_base.py:985: ConvergenceWarning: Liblinear failed to converge, increase the number of iterations.\n",
      "  warnings.warn(\"Liblinear failed to converge, increase \"\n"
     ]
    },
    {
     "name": "stdout",
     "output_type": "stream",
     "text": [
      "[CV 3/3] END .................................C=1, epsilon=2; total time=   6.6s\n"
     ]
    },
    {
     "name": "stderr",
     "output_type": "stream",
     "text": [
      "C:\\ProgramData\\Anaconda3\\lib\\site-packages\\sklearn\\svm\\_base.py:985: ConvergenceWarning: Liblinear failed to converge, increase the number of iterations.\n",
      "  warnings.warn(\"Liblinear failed to converge, increase \"\n"
     ]
    },
    {
     "name": "stdout",
     "output_type": "stream",
     "text": [
      "[CV 1/3] END .................................C=2, epsilon=1; total time=   6.8s\n"
     ]
    },
    {
     "name": "stderr",
     "output_type": "stream",
     "text": [
      "C:\\ProgramData\\Anaconda3\\lib\\site-packages\\sklearn\\svm\\_base.py:985: ConvergenceWarning: Liblinear failed to converge, increase the number of iterations.\n",
      "  warnings.warn(\"Liblinear failed to converge, increase \"\n"
     ]
    },
    {
     "name": "stdout",
     "output_type": "stream",
     "text": [
      "[CV 2/3] END .................................C=2, epsilon=1; total time=   7.2s\n"
     ]
    },
    {
     "name": "stderr",
     "output_type": "stream",
     "text": [
      "C:\\ProgramData\\Anaconda3\\lib\\site-packages\\sklearn\\svm\\_base.py:985: ConvergenceWarning: Liblinear failed to converge, increase the number of iterations.\n",
      "  warnings.warn(\"Liblinear failed to converge, increase \"\n"
     ]
    },
    {
     "name": "stdout",
     "output_type": "stream",
     "text": [
      "[CV 3/3] END .................................C=2, epsilon=1; total time=   7.0s\n"
     ]
    },
    {
     "name": "stderr",
     "output_type": "stream",
     "text": [
      "C:\\ProgramData\\Anaconda3\\lib\\site-packages\\sklearn\\svm\\_base.py:985: ConvergenceWarning: Liblinear failed to converge, increase the number of iterations.\n",
      "  warnings.warn(\"Liblinear failed to converge, increase \"\n"
     ]
    },
    {
     "name": "stdout",
     "output_type": "stream",
     "text": [
      "[CV 1/3] END .................................C=2, epsilon=2; total time=   6.9s\n"
     ]
    },
    {
     "name": "stderr",
     "output_type": "stream",
     "text": [
      "C:\\ProgramData\\Anaconda3\\lib\\site-packages\\sklearn\\svm\\_base.py:985: ConvergenceWarning: Liblinear failed to converge, increase the number of iterations.\n",
      "  warnings.warn(\"Liblinear failed to converge, increase \"\n"
     ]
    },
    {
     "name": "stdout",
     "output_type": "stream",
     "text": [
      "[CV 2/3] END .................................C=2, epsilon=2; total time=   7.0s\n"
     ]
    },
    {
     "name": "stderr",
     "output_type": "stream",
     "text": [
      "C:\\ProgramData\\Anaconda3\\lib\\site-packages\\sklearn\\svm\\_base.py:985: ConvergenceWarning: Liblinear failed to converge, increase the number of iterations.\n",
      "  warnings.warn(\"Liblinear failed to converge, increase \"\n"
     ]
    },
    {
     "name": "stdout",
     "output_type": "stream",
     "text": [
      "[CV 3/3] END .................................C=2, epsilon=2; total time=   7.0s\n"
     ]
    },
    {
     "name": "stderr",
     "output_type": "stream",
     "text": [
      "C:\\ProgramData\\Anaconda3\\lib\\site-packages\\sklearn\\svm\\_base.py:985: ConvergenceWarning: Liblinear failed to converge, increase the number of iterations.\n",
      "  warnings.warn(\"Liblinear failed to converge, increase \"\n"
     ]
    },
    {
     "data": {
      "text/plain": [
       "GridSearchCV(cv=3, estimator=LinearSVR(max_iter=500, tol=0.0005),\n",
       "             param_grid={'C': [1, 2], 'epsilon': [1, 2]}, verbose=3)"
      ]
     },
     "execution_count": 42,
     "metadata": {},
     "output_type": "execute_result"
    }
   ],
   "source": [
    "parameters = {\n",
    "    'epsilon' : [1,2],\n",
    "    'C' : [1,2],\n",
    "}\n",
    "models = GridSearchCV(LinearSVR(max_iter=500,tol=0.0005),cv=3,verbose=3,param_grid=parameters)\n",
    "models.fit(x_train_std,y_train)"
   ]
  },
  {
   "cell_type": "code",
   "execution_count": 43,
   "id": "dbef9866",
   "metadata": {},
   "outputs": [
    {
     "data": {
      "text/plain": [
       "{'C': 2,\n",
       " 'dual': True,\n",
       " 'epsilon': 2,\n",
       " 'fit_intercept': True,\n",
       " 'intercept_scaling': 1.0,\n",
       " 'loss': 'epsilon_insensitive',\n",
       " 'max_iter': 500,\n",
       " 'random_state': None,\n",
       " 'tol': 0.0005,\n",
       " 'verbose': 0}"
      ]
     },
     "execution_count": 43,
     "metadata": {},
     "output_type": "execute_result"
    }
   ],
   "source": [
    "models.best_estimator_.get_params()"
   ]
  },
  {
   "cell_type": "code",
   "execution_count": 44,
   "id": "fa4541c7",
   "metadata": {},
   "outputs": [
    {
     "data": {
      "text/plain": [
       "(0.15271002834077296, 0.1479504742825991)"
      ]
     },
     "execution_count": 44,
     "metadata": {},
     "output_type": "execute_result"
    }
   ],
   "source": [
    "models.best_estimator_.score(x_train_std,y_train), models.best_estimator_.score(x_test_std,y_test)"
   ]
  },
  {
   "cell_type": "code",
   "execution_count": 45,
   "id": "325524a0",
   "metadata": {},
   "outputs": [
    {
     "data": {
      "text/plain": [
       "<AxesSubplot:xlabel='features'>"
      ]
     },
     "execution_count": 45,
     "metadata": {},
     "output_type": "execute_result"
    },
    {
     "data": {
      "image/png": "[encoded data removed]",
      "text/plain": [
       "<Figure size 1440x720 with 1 Axes>"
      ]
     },
     "metadata": {
      "needs_background": "light"
     },
     "output_type": "display_data"
    }
   ],
   "source": [
    "t1 = pd.DataFrame(models.best_estimator_.coef_,columns = ['coef'])\n",
    "t1['features'] = x_train.columns\n",
    "\n",
    "t1 = t1.loc[abs(t1.coef)>1]\n",
    "t1.sort_values(['coef'],ascending=False).plot('features','coef',kind='bar',figsize=(20, 10),fontsize=25)"
   ]
  },
  {
   "cell_type": "code",
   "execution_count": null,
   "id": "e5a9a4c3",
   "metadata": {},
   "outputs": [],
   "source": []
  },
  {
   "cell_type": "code",
   "execution_count": null,
   "id": "7d8b1fcf",
   "metadata": {},
   "outputs": [],
   "source": []
  },
  {
   "cell_type": "code",
   "execution_count": null,
   "id": "8934d628",
   "metadata": {},
   "outputs": [],
   "source": []
  },
  {
   "cell_type": "code",
   "execution_count": 88,
   "id": "74f81533",
   "metadata": {},
   "outputs": [
    {
     "data": {
      "text/plain": [
       "(0.9054527475040801, 0.5210125613340388)"
      ]
     },
     "execution_count": 88,
     "metadata": {},
     "output_type": "execute_result"
    }
   ],
   "source": [
    "xgb_algo = xgb.XGBRegressor(gamma=1,booster='gbtree')\n",
    "xgb_algo.fit(x_train_std,y_train)\n",
    "xgb_algo.score(x_train_std,y_train),xgb_algo.score(x_test_std,y_test)"
   ]
  },
  {
   "cell_type": "code",
   "execution_count": null,
   "id": "041b265d",
   "metadata": {},
   "outputs": [
    {
     "name": "stdout",
     "output_type": "stream",
     "text": [
      "Fitting 3 folds for each of 16 candidates, totalling 48 fits\n",
      "[CV 1/3] END alpha=0.5, booster=gbtree, lambda=0.5, max_depth=4; total time=   7.0s\n",
      "[CV 2/3] END alpha=0.5, booster=gbtree, lambda=0.5, max_depth=4; total time=   7.6s\n",
      "[CV 3/3] END alpha=0.5, booster=gbtree, lambda=0.5, max_depth=4; total time=   7.9s\n",
      "[CV 1/3] END alpha=0.5, booster=gbtree, lambda=0.5, max_depth=5; total time=  10.6s\n",
      "[CV 2/3] END alpha=0.5, booster=gbtree, lambda=0.5, max_depth=5; total time=  10.1s\n",
      "[CV 3/3] END alpha=0.5, booster=gbtree, lambda=0.5, max_depth=5; total time=  10.6s\n",
      "[CV 1/3] END alpha=0.5, booster=gbtree, lambda=1, max_depth=4; total time=   7.7s\n",
      "[CV 2/3] END alpha=0.5, booster=gbtree, lambda=1, max_depth=4; total time=   7.3s\n",
      "[CV 3/3] END alpha=0.5, booster=gbtree, lambda=1, max_depth=4; total time=   7.3s\n",
      "[CV 1/3] END alpha=0.5, booster=gbtree, lambda=1, max_depth=5; total time=   8.9s\n",
      "[CV 2/3] END alpha=0.5, booster=gbtree, lambda=1, max_depth=5; total time=   9.7s\n",
      "[CV 3/3] END alpha=0.5, booster=gbtree, lambda=1, max_depth=5; total time=   9.5s\n",
      "[CV 1/3] END alpha=0.5, booster=dart, lambda=0.5, max_depth=4; total time=  54.4s\n",
      "[CV 2/3] END alpha=0.5, booster=dart, lambda=0.5, max_depth=4; total time=  53.1s\n",
      "[CV 3/3] END alpha=0.5, booster=dart, lambda=0.5, max_depth=4; total time= 1.1min\n",
      "[CV 1/3] END alpha=0.5, booster=dart, lambda=0.5, max_depth=5; total time= 1.2min\n",
      "[CV 2/3] END alpha=0.5, booster=dart, lambda=0.5, max_depth=5; total time= 1.5min\n",
      "[CV 3/3] END alpha=0.5, booster=dart, lambda=0.5, max_depth=5; total time= 1.3min\n",
      "[CV 1/3] END .alpha=0.5, booster=dart, lambda=1, max_depth=4; total time= 1.4min\n",
      "[CV 2/3] END .alpha=0.5, booster=dart, lambda=1, max_depth=4; total time= 1.3min\n",
      "[CV 3/3] END .alpha=0.5, booster=dart, lambda=1, max_depth=4; total time=  48.3s\n",
      "[CV 1/3] END .alpha=0.5, booster=dart, lambda=1, max_depth=5; total time=  50.7s\n",
      "[CV 2/3] END .alpha=0.5, booster=dart, lambda=1, max_depth=5; total time= 1.0min\n",
      "[CV 3/3] END .alpha=0.5, booster=dart, lambda=1, max_depth=5; total time= 1.0min\n",
      "[CV 1/3] END alpha=1, booster=gbtree, lambda=0.5, max_depth=4; total time=   8.0s\n",
      "[CV 2/3] END alpha=1, booster=gbtree, lambda=0.5, max_depth=4; total time=   7.9s\n",
      "[CV 3/3] END alpha=1, booster=gbtree, lambda=0.5, max_depth=4; total time=   8.1s\n",
      "[CV 1/3] END alpha=1, booster=gbtree, lambda=0.5, max_depth=5; total time=  11.3s\n",
      "[CV 2/3] END alpha=1, booster=gbtree, lambda=0.5, max_depth=5; total time=   9.3s\n",
      "[CV 3/3] END alpha=1, booster=gbtree, lambda=0.5, max_depth=5; total time=   9.7s\n",
      "[CV 1/3] END .alpha=1, booster=gbtree, lambda=1, max_depth=4; total time=   7.6s\n",
      "[CV 2/3] END .alpha=1, booster=gbtree, lambda=1, max_depth=4; total time=   7.5s\n",
      "[CV 3/3] END .alpha=1, booster=gbtree, lambda=1, max_depth=4; total time=   7.5s\n",
      "[CV 1/3] END .alpha=1, booster=gbtree, lambda=1, max_depth=5; total time=   9.7s\n",
      "[CV 2/3] END .alpha=1, booster=gbtree, lambda=1, max_depth=5; total time=   9.6s\n",
      "[CV 3/3] END .alpha=1, booster=gbtree, lambda=1, max_depth=5; total time=   9.8s\n",
      "[CV 1/3] END .alpha=1, booster=dart, lambda=0.5, max_depth=4; total time=  53.2s\n",
      "[CV 2/3] END .alpha=1, booster=dart, lambda=0.5, max_depth=4; total time=  55.5s\n",
      "[CV 3/3] END .alpha=1, booster=dart, lambda=0.5, max_depth=4; total time=  56.2s\n",
      "[CV 1/3] END .alpha=1, booster=dart, lambda=0.5, max_depth=5; total time=  54.9s\n",
      "[CV 2/3] END .alpha=1, booster=dart, lambda=0.5, max_depth=5; total time=  58.2s\n",
      "[CV 3/3] END .alpha=1, booster=dart, lambda=0.5, max_depth=5; total time=  57.6s\n",
      "[CV 1/3] END ...alpha=1, booster=dart, lambda=1, max_depth=4; total time= 1.0min\n",
      "[CV 2/3] END ...alpha=1, booster=dart, lambda=1, max_depth=4; total time= 1.0min\n",
      "[CV 3/3] END ...alpha=1, booster=dart, lambda=1, max_depth=4; total time=  59.0s\n"
     ]
    }
   ],
   "source": [
    "parameters = {\n",
    "    'booster' : ['gbtree','dart'],\n",
    "    'max_depth' : [4,5],\n",
    "    'lambda' : [0.5,1],\n",
    "    'alpha' : [0.5,1],\n",
    "}\n",
    "models = GridSearchCV(xgb.XGBRegressor(),cv=3,verbose=3,param_grid=parameters)\n",
    "models.fit(x_train_std,y_train)"
   ]
  },
  {
   "cell_type": "code",
   "execution_count": null,
   "id": "e77e32d4",
   "metadata": {},
   "outputs": [],
   "source": [
    "models.best_estimator_.get_params()"
   ]
  },
  {
   "cell_type": "code",
   "execution_count": null,
   "id": "4f515311",
   "metadata": {},
   "outputs": [],
   "source": [
    "models.best_estimator_.score(x_train_std,y_train), models.best_estimator_.score(x_test_std,y_test)"
   ]
  },
  {
   "cell_type": "raw",
   "id": "232bbee2",
   "metadata": {},
   "source": [
    "t1 = pd.DataFrame(models.best_estimator_.feature_importances_,columns = ['coef'])\n",
    "t1['features'] = x_train.columns\n",
    "\n",
    "t1 = t1.loc[abs(t1.coef)>0.01]\n",
    "t1"
   ]
  },
  {
   "cell_type": "code",
   "execution_count": null,
   "id": "27846f1e",
   "metadata": {},
   "outputs": [],
   "source": [
    "t1.sort_values(['coef'],ascending=False).plot('features','coef',kind='bar',figsize=(20, 10),fontsize=25)"
   ]
  },
  {
   "cell_type": "code",
   "execution_count": null,
   "id": "9922dac5",
   "metadata": {},
   "outputs": [],
   "source": []
  },
  {
   "cell_type": "code",
   "execution_count": null,
   "id": "7ea15d76",
   "metadata": {},
   "outputs": [],
   "source": []
  },
  {
   "cell_type": "code",
   "execution_count": null,
   "id": "63a5d905",
   "metadata": {},
   "outputs": [],
   "source": []
  },
  {
   "cell_type": "code",
   "execution_count": null,
   "id": "e4b54f01",
   "metadata": {},
   "outputs": [],
   "source": []
  },
  {
   "cell_type": "raw",
   "id": "9bd3b8d6",
   "metadata": {},
   "source": [
    "from sklearn.decomposition import PCA\n",
    "\n",
    "pca = PCA(129)\n",
    "pca.fit_transform(x_std)\n",
    "t = pca.explained_variance_ratio_.cumsum()\n",
    "plt.plot([_ for _ in range(len(t))],t)"
   ]
  },
  {
   "cell_type": "code",
   "execution_count": null,
   "id": "7a281109",
   "metadata": {},
   "outputs": [],
   "source": []
  },
  {
   "cell_type": "code",
   "execution_count": null,
   "id": "afdd1931",
   "metadata": {},
   "outputs": [],
   "source": []
  },
  {
   "cell_type": "code",
   "execution_count": null,
   "id": "a5faff15",
   "metadata": {},
   "outputs": [],
   "source": []
  },
  {
   "cell_type": "code",
   "execution_count": null,
   "id": "dc8a4063",
   "metadata": {},
   "outputs": [],
   "source": []
  },
  {
   "cell_type": "code",
   "execution_count": null,
   "id": "4f94d064",
   "metadata": {},
   "outputs": [],
   "source": []
  },
  {
   "cell_type": "code",
   "execution_count": null,
   "id": "01da4bbd",
   "metadata": {},
   "outputs": [],
   "source": []
  },
  {
   "cell_type": "code",
   "execution_count": null,
   "id": "24c213fd",
   "metadata": {},
   "outputs": [],
   "source": []
  },
  {
   "cell_type": "code",
   "execution_count": null,
   "id": "d506ddbc",
   "metadata": {},
   "outputs": [],
   "source": []
  },
  {
   "cell_type": "code",
   "execution_count": null,
   "id": "6579c800",
   "metadata": {},
   "outputs": [],
   "source": []
  },
  {
   "cell_type": "code",
   "execution_count": null,
   "id": "ed70f265",
   "metadata": {},
   "outputs": [],
   "source": []
  },
  {
   "cell_type": "code",
   "execution_count": null,
   "id": "1b6899c1",
   "metadata": {},
   "outputs": [],
   "source": []
  },
  {
   "cell_type": "code",
   "execution_count": null,
   "id": "aea8f281",
   "metadata": {},
   "outputs": [],
   "source": []
  },
  {
   "cell_type": "code",
   "execution_count": null,
   "id": "a8a1012c",
   "metadata": {},
   "outputs": [],
   "source": []
  },
  {
   "cell_type": "code",
   "execution_count": null,
   "id": "1889f740",
   "metadata": {},
   "outputs": [],
   "source": []
  },
  {
   "cell_type": "code",
   "execution_count": null,
   "id": "1bce810c",
   "metadata": {},
   "outputs": [],
   "source": []
  },
  {
   "cell_type": "code",
   "execution_count": null,
   "id": "a1302ba8",
   "metadata": {},
   "outputs": [],
   "source": []
  },
  {
   "cell_type": "code",
   "execution_count": null,
   "id": "52c223dd",
   "metadata": {},
   "outputs": [],
   "source": []
  },
  {
   "cell_type": "code",
   "execution_count": null,
   "id": "bb01d6bd",
   "metadata": {},
   "outputs": [],
   "source": []
  },
  {
   "cell_type": "code",
   "execution_count": null,
   "id": "8723acc7",
   "metadata": {},
   "outputs": [],
   "source": []
  },
  {
   "cell_type": "code",
   "execution_count": null,
   "id": "36e375f3",
   "metadata": {},
   "outputs": [],
   "source": []
  },
  {
   "cell_type": "code",
   "execution_count": null,
   "id": "b4b7f4ea",
   "metadata": {},
   "outputs": [],
   "source": []
  },
  {
   "cell_type": "code",
   "execution_count": null,
   "id": "2ce8140e",
   "metadata": {},
   "outputs": [],
   "source": []
  },
  {
   "cell_type": "code",
   "execution_count": null,
   "id": "60437f53",
   "metadata": {},
   "outputs": [],
   "source": []
  },
  {
   "cell_type": "code",
   "execution_count": null,
   "id": "d4383f8b",
   "metadata": {},
   "outputs": [],
   "source": []
  },
  {
   "cell_type": "code",
   "execution_count": null,
   "id": "4040b3d2",
   "metadata": {},
   "outputs": [],
   "source": []
  },
  {
   "cell_type": "code",
   "execution_count": null,
   "id": "efd8d019",
   "metadata": {},
   "outputs": [],
   "source": []
  },
  {
   "cell_type": "code",
   "execution_count": null,
   "id": "f4b04ad2",
   "metadata": {},
   "outputs": [],
   "source": []
  }
 ],
 "metadata": {
  "kernelspec": {
   "display_name": "Python 3",
   "language": "python",
   "name": "python3"
  },
  "language_info": {
   "codemirror_mode": {
    "name": "ipython",
    "version": 3
   },
   "file_extension": ".py",
   "mimetype": "text/x-python",
   "name": "python",
   "nbconvert_exporter": "python",
   "pygments_lexer": "ipython3",
   "version": "3.8.8"
  }
 },
 "nbformat": 4,
 "nbformat_minor": 5
}
