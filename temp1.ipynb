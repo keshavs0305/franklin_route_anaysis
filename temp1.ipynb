{
 "cells": [
  {
   "cell_type": "code",
   "execution_count": null,
   "id": "02fc8539",
   "metadata": {},
   "outputs": [],
   "source": [
    "#data = data.loc[~data.isna().T.all()]\n",
    "data.drop(['BTP_PlacementID'],axis=1,inplace=True)\n",
    "data\n",
    "\n",
    "data.dtypes\n",
    "\n",
    "data['BTP_TradeDateEST'].isna().any()\n",
    "\n",
    "data['BTP_TradeDateEST_day'] = data['BTP_TradeDateEST'].apply(lambda s:int(s.split('/')[0]))\n",
    "data['BTP_TradeDateEST_month'] = data['BTP_TradeDateEST'].apply(lambda s:int(s.split('/')[1]))\n",
    "data['BTP_TradeDateEST_year'] = data['BTP_TradeDateEST'].apply(lambda s:int(s.split('/')[2]))\n",
    "\n",
    "data.drop(['BTP_TradeDateEST'],axis=1,inplace=True)\n",
    "\n",
    "data.BTP_TDI.isna().any()\n",
    "data.BTP_TDI.plot.hist()\n",
    "data.BTP_TDI = data.BTP_TDI.replace(np.nan,data.BTP_TDI.mean())\n",
    "data.BTP_TDI.isna().any()\n",
    "data.BTP_TDI.plot.hist()\n",
    "\n",
    "data.BTP_MomentumPercentile\n",
    "data.BTP_MomentumPercentile.isna().any()\n",
    "data.BTP_MomentumPercentile.plot.hist()\n",
    "data.BTP_MomentumPercentile = data.BTP_MomentumPercentile.replace(np.nan,data.BTP_MomentumPercentile.mean())\n",
    "plt.hist(StandardScaler().fit_transform(data.BTP_MomentumPercentile.to_numpy().reshape(-1, 1)).reshape(1,-1)[0])\n",
    "plt.hist(normalize(data.BTP_MomentumPercentile.to_numpy().reshape(-1, 1),axis=0).reshape(1,-1)[0],)\n",
    "\n",
    "for i in data.describe().columns:\n",
    "    data[i].plot(kind='hist')\n",
    "    plt.show()\n",
    "\n",
    "data['BTP_Side'].replace(['S','B'],[0,1]).plot(kind='hist')\n",
    "\n",
    "for i in data.describe().columns:\n",
    "    data.plot(x=i,y='BTP_LmtAdjPWP20Pct_bps',kind='scatter')\n",
    "    plt.show()\n",
    "\n",
    "data.corr()\n",
    "fig, ax = plt.subplots(figsize=(15,15))\n",
    "sns.heatmap(data.corr(),ax=ax)\n",
    "data.dropna()"
   ]
  }
 ],
 "metadata": {
  "kernelspec": {
   "display_name": "Python 3",
   "language": "python",
   "name": "python3"
  },
  "language_info": {
   "codemirror_mode": {
    "name": "ipython",
    "version": 3
   },
   "file_extension": ".py",
   "mimetype": "text/x-python",
   "name": "python",
   "nbconvert_exporter": "python",
   "pygments_lexer": "ipython3",
   "version": "3.8.8"
  }
 },
 "nbformat": 4,
 "nbformat_minor": 5
}
